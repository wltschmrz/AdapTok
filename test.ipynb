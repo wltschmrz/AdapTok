{
 "cells": [
  {
   "cell_type": "markdown",
   "id": "e0578a78",
   "metadata": {},
   "source": [
    "## MLP token selection Alg"
   ]
  },
  {
   "cell_type": "code",
   "execution_count": 310,
   "id": "62f1d8e9",
   "metadata": {},
   "outputs": [
    {
     "name": "stdout",
     "output_type": "stream",
     "text": [
      "logits: [1.1678578, 1.0495843, 1.0413324, 1.1985563, 0.8202838, 0.7594303, 1.6300246, 0.9567003, 1.5219138, 0.9448810]\n",
      "softmax 뒤: [0.1021033, 0.0907140, 0.0899685, 0.1052864, 0.0721258, 0.0678676, 0.1620901, 0.0826676, 0.1454804, 0.0816963]\n",
      "결정 지점 (0-base): 6\n",
      "Gumbel 뒤: [0.0718179, 0.1162387, 0.0288235, 0.0141581, 0.2481723, 0.0791423, 0.1583174, 0.1305682, 0.0721859, 0.0805758]\n",
      "결정 지점 (0-base): 4\n",
      "순차합: [0.0718179, 0.1880566, 0.2168801, 0.2310381, 0.4792104, 0.5583526, 0.7166700, 0.8472382, 0.9194242, 1.0000000]\n",
      "결정 지점 값 1: 0.479\n",
      "keep_soft: [1.0000000, 0.9281821, 0.8119434, 0.7831199, 0.7689619, 0.5207896, 0.4416474, 0.2833300, 0.1527618, 0.0805758]\n",
      "결정 지점 값 2: 0.769\n",
      "keep_mask: [1.0000000, 1.0000000, 1.0000000, 1.0000000, 1.0000000, 0.0000000, 0.0000000, 0.0000000, 0.0000000, 0.0000000]\n",
      "keep_mask: [1.0000000, 1.0000000, 1.0000000, 1.0000000, 0.2481723, 0.5207896, 0.0000000, 0.0000000, 0.0000000, 0.0000000]\n"
     ]
    }
   ],
   "source": [
    "import torch\n",
    "import torch.nn.functional as F\n",
    "torch.set_printoptions(precision=7, linewidth=200)\n",
    "rand = torch.randint(0, 100, (1,))\n",
    "torch.manual_seed(0)\n",
    "\n",
    "def fmt(t):\n",
    "    return \"[\" + \", \".join(f\"{x:.7f}\" for x in t.tolist()) + \"]\"\n",
    "\n",
    "def gumbel_softmax(logits, tau=1.0, hard=False, dim=-1):\n",
    "    return F.gumbel_softmax(logits, tau=tau, hard=hard, dim=dim)\n",
    "\n",
    "L = 10  # 토큰 개수\n",
    "C = 50  # 토큰 embedding 차원\n",
    "\n",
    "# feature token x\n",
    "tokens = torch.randn(L, C)\n",
    "\n",
    "# router = MLP(x) : 여기서는 간단히 랜덤 logits\n",
    "mu = 1.0\n",
    "sigma = 0.2\n",
    "logits = mu + sigma * torch.randn(L)\n",
    "# logits = torch.abs(logits)\n",
    "print(f\"logits: {fmt(logits)}\")\n",
    "\n",
    "torch.manual_seed(rand)\n",
    "\n",
    "# gumbel softmax\n",
    "p_soft_ = F.softmax(logits, dim=0)\n",
    "print(f\"softmax 뒤: {fmt(p_soft_)}\")\n",
    "large_pos = torch.argmax(p_soft_)\n",
    "print(f\"결정 지점 (0-base): {large_pos.item()}\")\n",
    "\n",
    "p_soft = F.gumbel_softmax(logits, tau=1, hard=False, dim=0)\n",
    "print(f\"Gumbel 뒤: {fmt(p_soft)}\")\n",
    "large_pos = torch.argmax(p_soft)\n",
    "print(f\"결정 지점 (0-base): {large_pos.item()}\")\n",
    "\n",
    "# cumulative mask\n",
    "cumsum_p = torch.cumsum(p_soft, dim=0)\n",
    "pos = cumsum_p[large_pos].item()\n",
    "print(f\"순차합: {fmt(cumsum_p)}\")\n",
    "print(f\"결정 지점 값 1: {pos:.3f}\")\n",
    "\n",
    "keep_soft = 1.0 - torch.roll(cumsum_p, shifts=1, dims=0)\n",
    "keep_soft[0] = 1.0\n",
    "print(f\"keep_soft: {fmt(keep_soft)}\")\n",
    "pos = keep_soft[large_pos].item()\n",
    "print(f\"결정 지점 값 2: {pos:.3f}\")\n",
    "\n",
    "# ST-trick (optional)\n",
    "keep_hard = (keep_soft >= pos).float()\n",
    "keep_mask = (keep_hard - keep_soft).detach() + keep_soft\n",
    "print(f\"keep_mask: {fmt(keep_mask)}\")\n",
    "\n",
    "keep_mask[large_pos] = p_soft[large_pos]\n",
    "if large_pos + 1 != 10:\n",
    "    keep_mask[large_pos+1] = 1 - cumsum_p[large_pos]\n",
    "\n",
    "print(f\"keep_mask: {fmt(keep_mask)}\")\n",
    "\n",
    "# masked tokens\n",
    "tokens_masked = tokens * keep_mask.unsqueeze(-1)\n",
    "\n"
   ]
  },
  {
   "cell_type": "code",
   "execution_count": null,
   "id": "810ad168",
   "metadata": {},
   "outputs": [],
   "source": []
  },
  {
   "cell_type": "code",
   "execution_count": null,
   "id": "28515a4c",
   "metadata": {},
   "outputs": [],
   "source": []
  }
 ],
 "metadata": {
  "kernelspec": {
   "display_name": "dynvit",
   "language": "python",
   "name": "python3"
  },
  "language_info": {
   "codemirror_mode": {
    "name": "ipython",
    "version": 3
   },
   "file_extension": ".py",
   "mimetype": "text/x-python",
   "name": "python",
   "nbconvert_exporter": "python",
   "pygments_lexer": "ipython3",
   "version": "3.10.12"
  }
 },
 "nbformat": 4,
 "nbformat_minor": 5
}
